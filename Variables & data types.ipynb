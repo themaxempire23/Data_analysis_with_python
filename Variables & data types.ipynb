{
 "cells": [
  {
   "cell_type": "code",
   "execution_count": 1,
   "id": "6d794c38-7336-4c49-b240-683b216c041b",
   "metadata": {},
   "outputs": [
    {
     "name": "stdout",
     "output_type": "stream",
     "text": [
      "John 29 6.3 True\n"
     ]
    }
   ],
   "source": [
    "name = \"John\"\n",
    "age = 29\n",
    "height = 6.3\n",
    "is_student = True\n",
    "\n",
    "print(name, age, height, is_student)"
   ]
  },
  {
   "cell_type": "code",
   "execution_count": 3,
   "id": "333b8f30-3ccd-497b-91b8-455094fc34d6",
   "metadata": {},
   "outputs": [],
   "source": [
    "import pandas as pd\n",
    "import numpy as np\n",
    "\n",
    "# How to install libraries if they are not installed or dietected by the notebook\n",
    "# !pip install pandas numpy\n"
   ]
  },
  {
   "cell_type": "markdown",
   "id": "9d4722f6-28bc-44dc-9877-4de1dbca35bd",
   "metadata": {},
   "source": [
    "# working with numerical data"
   ]
  },
  {
   "cell_type": "code",
   "execution_count": 6,
   "id": "bd5eedcf-7fcc-44f9-85f8-f5a07b4fcea7",
   "metadata": {},
   "outputs": [
    {
     "name": "stdout",
     "output_type": "stream",
     "text": [
      "Total Sales: 2070\n",
      "Average Sales: 414.0\n",
      "Maximum Sales: 800\n",
      "Minimum Sales: 120\n"
     ]
    }
   ],
   "source": [
    "sales = [250, 800, 400, 120, 500]\n",
    "\n",
    "sales_array = np.array(sales)\n",
    "\n",
    "print(\"Total Sales:\", sales_array.sum())\n",
    "print(\"Average Sales:\", sales_array.mean())\n",
    "print(\"Maximum Sales:\", sales_array.max())\n",
    "print(\"Minimum Sales:\", sales_array.min())"
   ]
  },
  {
   "cell_type": "markdown",
   "id": "b3da32d2-fa4f-495a-83bd-b67ef1ba9877",
   "metadata": {},
   "source": [
    "# working with strings with specific dataframes"
   ]
  },
  {
   "cell_type": "code",
   "execution_count": 10,
   "id": "997747c6-dad4-4785-be64-3a9d3a31df43",
   "metadata": {},
   "outputs": [
    {
     "name": "stdout",
     "output_type": "stream",
     "text": [
      "  Driver_Name  NO.Champs_Won         Dep   Dep_Lower\n",
      "0       Max.V              4          HR          hr\n",
      "1   Hammilton              8  Management  management\n",
      "2      Russel              3       Hotel       hotel\n",
      "3       Oscar              4          IT          it\n",
      "4       Lando              5         R&D         r&d\n",
      "5   Antonelli              4        Exco        exco\n",
      "6       Gazly              2     General     general\n"
     ]
    }
   ],
   "source": [
    "#Creating a formula one dataframe\n",
    "\n",
    "data = pd.DataFrame({\n",
    "    'Driver_Name': ['Max.V', 'Hammilton', 'Russel', 'Oscar', 'Lando', 'Antonelli', 'Gazly'],\n",
    "    'NO.Champs_Won': [4, 8, 3, 4, 5, 4, 2],\n",
    "    'Dep': ['HR', 'Management', 'Hotel', 'IT', 'R&D', 'Exco', 'General']\n",
    "})\n",
    "\n",
    "#data['Driver_Name_Lower'] = data['Driver_Name'].str.lower(),\n",
    "data['Dep_Lower'] = data['Dep'].str.lower()\n",
    "print(data)"
   ]
  },
  {
   "cell_type": "code",
   "execution_count": 11,
   "id": "2c90201e-e7c3-4495-8621-8aa3a35c0774",
   "metadata": {},
   "outputs": [
    {
     "name": "stdout",
     "output_type": "stream",
     "text": [
      "High Earners:\n",
      "   Driver_Name  NO.Champs_Won      Dep Dep_Lower    Salary\n",
      "0       Max.V              4       HR        hr   5000666\n",
      "2      Russel              3    Hotel     hotel  25440000\n",
      "6       Gazly              2  General   general   6000000\n"
     ]
    }
   ],
   "source": [
    "data['Salary'] = [5000666, 4888000, 25440000, 2342000, 3000000, 4000000, 6000000]\n",
    "\n",
    "high_earners = data['Salary'] > 4930600\n",
    "\n",
    "print(\"High Earners:\\n\", data[high_earners])"
   ]
  },
  {
   "cell_type": "code",
   "execution_count": 13,
   "id": "33dfe78c-bca2-452c-8149-53d1b49f651c",
   "metadata": {},
   "outputs": [
    {
     "name": "stdout",
     "output_type": "stream",
     "text": [
      "Employee Info: Oscar | Age: 29 | Height: 5.4 | Student: True\n"
     ]
    }
   ],
   "source": [
    "import numpy as np\n",
    "import pandas as pd\n",
    "\n",
    "employee_name = \"Oscar\"\n",
    "employee_age = 29\n",
    "employee_height = 5.4\n",
    "is_student = True\n",
    "\n",
    "print(\"Employee Info:\", employee_name, \"| Age:\", employee_age, \"| Height:\", employee_height, \"| Student:\", is_student)\n",
    "\n",
    "monthly_sales = [250, 800, 400, 120, 500]\n",
    "sales_array = np.array(monthly_sales)\n",
    "\n",
    "print(\"\\n Sales Analysis:\")\n",
    "print(\"Total Sales:\", sales_array.sum())\n",
    "print(\"Average Sales:\", sales_array.mean())\n",
    "print(\"Highest Sales:\", sales_array.max())\n",
    "\n",
    "data = pd.DataFrame({ \n",
    "    'Name':"
   ]
  }
 ],
 "metadata": {
  "kernelspec": {
   "display_name": "Python 3 (ipykernel)",
   "language": "python",
   "name": "python3"
  },
  "language_info": {
   "codemirror_mode": {
    "name": "ipython",
    "version": 3
   },
   "file_extension": ".py",
   "mimetype": "text/x-python",
   "name": "python",
   "nbconvert_exporter": "python",
   "pygments_lexer": "ipython3",
   "version": "3.10.2"
  }
 },
 "nbformat": 4,
 "nbformat_minor": 5
}
