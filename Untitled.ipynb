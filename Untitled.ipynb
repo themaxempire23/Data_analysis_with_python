{
 "cells": [
  {
   "cell_type": "code",
   "execution_count": 1,
   "id": "a303fd2d-1a2d-4d9b-a1c3-87017c5a7625",
   "metadata": {},
   "outputs": [],
   "source": [
    "import pandas as pd"
   ]
  },
  {
   "cell_type": "code",
   "execution_count": null,
   "id": "00b71441-4a7f-49ec-b70d-c2ae047c7b44",
   "metadata": {},
   "outputs": [],
   "source": [
    "data = {\n",
    "    'name': ['John', 'Mary', 'Mark', 'Andria', 'Robert','Eva'],\n",
    "    'age': ['25', 'np.nan', '30', '29', 'NaN', '25'],\n",
    "    'gender':['Male','Female', 'Male', 'np.nan', 'Male', 'Female'],\n",
    "    'quantity': [2, 1, 3, 5, 2, 2],\n",
    "}\n",
    "\n",
    "df = pd.DataFrame(data)\n",
    "df"
   ]
  }
 ],
 "metadata": {
  "kernelspec": {
   "display_name": "Python 3 (ipykernel)",
   "language": "python",
   "name": "python3"
  },
  "language_info": {
   "codemirror_mode": {
    "name": "ipython",
    "version": 3
   },
   "file_extension": ".py",
   "mimetype": "text/x-python",
   "name": "python",
   "nbconvert_exporter": "python",
   "pygments_lexer": "ipython3",
   "version": "3.10.2"
  }
 },
 "nbformat": 4,
 "nbformat_minor": 5
}
