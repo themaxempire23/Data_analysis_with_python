{
 "cells": [
  {
   "cell_type": "markdown",
   "id": "4e2d8ce2-7d3b-48f2-97f8-0791342b1c7b",
   "metadata": {},
   "source": [
    "## List-> An array of data"
   ]
  },
  {
   "cell_type": "code",
   "execution_count": 1,
   "id": "921becb4-96bf-4e8a-9022-5de9992a5800",
   "metadata": {},
   "outputs": [
    {
     "name": "stdout",
     "output_type": "stream",
     "text": [
      "Audi\n",
      "Mahindra\n"
     ]
    }
   ],
   "source": [
    "cars = [\"BMW\", \"Audi\", \"Toyota\", \"Mahindra\"]\n",
    "\n",
    "print(cars[1])\n",
    "print(cars[3])"
   ]
  },
  {
   "cell_type": "code",
   "execution_count": 2,
   "id": "c8e4a189-7d4c-453e-8c42-7d10db3b8c46",
   "metadata": {},
   "outputs": [],
   "source": [
    "#changing out an item\n",
    "cars[2] = \"Lambo\""
   ]
  },
  {
   "cell_type": "code",
   "execution_count": 3,
   "id": "56142eca-2b7d-432e-bde3-6b1e99953fe7",
   "metadata": {},
   "outputs": [
    {
     "name": "stdout",
     "output_type": "stream",
     "text": [
      "['BMW', 'Audi', 'Lambo', 'Mahindra']\n"
     ]
    }
   ],
   "source": [
    "print(cars)"
   ]
  },
  {
   "cell_type": "code",
   "execution_count": 4,
   "id": "29816fb2-7746-4da6-aca7-a1af0867b416",
   "metadata": {},
   "outputs": [
    {
     "name": "stdout",
     "output_type": "stream",
     "text": [
      "['BMW', 'Audi', 'Lambo', 'Mazda']\n"
     ]
    }
   ],
   "source": [
    "cars[3] = \"Mazda\"\n",
    "\n",
    "print(cars)"
   ]
  },
  {
   "cell_type": "markdown",
   "id": "11711b94-f0b3-48cc-aa6e-8fe339caaed9",
   "metadata": {},
   "source": [
    "## How to add an item in a list"
   ]
  },
  {
   "cell_type": "code",
   "execution_count": 5,
   "id": "9fbe8d7f-e230-4988-92db-c4bfeeb4455f",
   "metadata": {},
   "outputs": [
    {
     "name": "stdout",
     "output_type": "stream",
     "text": [
      "['BMW', 'Audi', 'Lambo', 'Mazda', 'Nissan']\n"
     ]
    }
   ],
   "source": [
    "cars.append(\"Nissan\")\n",
    "\n",
    "print(cars)"
   ]
  },
  {
   "cell_type": "markdown",
   "id": "81c07033-533e-4d72-8dd5-76765e5dfdc8",
   "metadata": {},
   "source": [
    "## How to remove an item from a list"
   ]
  },
  {
   "cell_type": "code",
   "execution_count": 6,
   "id": "7039058e-fa95-4b8c-b743-1a29976e0e71",
   "metadata": {},
   "outputs": [
    {
     "name": "stdout",
     "output_type": "stream",
     "text": [
      "['Audi', 'Lambo', 'Mazda', 'Nissan']\n"
     ]
    }
   ],
   "source": [
    "cars.remove(\"BMW\")\n",
    "\n",
    "print(cars)"
   ]
  },
  {
   "cell_type": "markdown",
   "id": "c9b93747-5e43-401c-ac6b-42a718c052cf",
   "metadata": {},
   "source": [
    "## How to loop through a list and print all items in the list"
   ]
  },
  {
   "cell_type": "code",
   "execution_count": 7,
   "id": "b3bc4d6c-c0a3-42b0-9c7e-5843f23f264e",
   "metadata": {},
   "outputs": [
    {
     "name": "stdout",
     "output_type": "stream",
     "text": [
      "Audi\n",
      "Lambo\n",
      "Mazda\n",
      "Nissan\n"
     ]
    }
   ],
   "source": [
    "for car in cars:\n",
    "    print(car)"
   ]
  },
  {
   "cell_type": "markdown",
   "id": "ef83dcfd-09c2-4609-89ca-121def574ac7",
   "metadata": {},
   "source": [
    "## Dictionaries in python\n",
    "\n",
    "Dictionaries -> Store data in a key value pair, wich is defined using {} curly braces."
   ]
  },
  {
   "cell_type": "code",
   "execution_count": 8,
   "id": "e7b8b055-d43a-4fc2-bec6-59ece9390470",
   "metadata": {},
   "outputs": [],
   "source": [
    "student = {\"name\": \"Tim\", \"age\": 22, \"grade\": \"A+\", \"Nationality\": \"South African\"} "
   ]
  },
  {
   "cell_type": "code",
   "execution_count": 9,
   "id": "bad47e23-ea10-420b-97ec-d1b29b14eaac",
   "metadata": {},
   "outputs": [
    {
     "name": "stdout",
     "output_type": "stream",
     "text": [
      "A+\n",
      "South African\n"
     ]
    }
   ],
   "source": [
    "print(student[\"grade\"])\n",
    "print(student[\"Nationality\"])"
   ]
  },
  {
   "cell_type": "markdown",
   "id": "b6a30d20-9a0e-42b1-88b2-aaa940ede525",
   "metadata": {},
   "source": [
    "## adding a key value pair in the dictionary"
   ]
  },
  {
   "cell_type": "code",
   "execution_count": 10,
   "id": "6513d2ae-cf21-460d-9da1-8ccfd4315657",
   "metadata": {},
   "outputs": [],
   "source": [
    "student[\"Sport\"] = \"Soccer\"\n",
    "student[\"Course\"] = \"Sociology\""
   ]
  },
  {
   "cell_type": "code",
   "execution_count": 11,
   "id": "24b47192-c8b0-4991-89b8-465a92d80f78",
   "metadata": {},
   "outputs": [
    {
     "name": "stdout",
     "output_type": "stream",
     "text": [
      "Soccer\n",
      "Sociology\n"
     ]
    }
   ],
   "source": [
    "print(student[\"Sport\"])\n",
    "print(student[\"Course\"])"
   ]
  },
  {
   "cell_type": "markdown",
   "id": "564722d1-0322-41ca-938a-2c77adac9ae0",
   "metadata": {},
   "source": [
    "## Removing a key value pair from a dictionary"
   ]
  },
  {
   "cell_type": "code",
   "execution_count": 12,
   "id": "1aa4990a-06f1-42b0-ad48-ae4bef5af34e",
   "metadata": {},
   "outputs": [],
   "source": [
    "del student[\"grade\"]"
   ]
  },
  {
   "cell_type": "markdown",
   "id": "ff6df110-7d56-42b9-9b16-8c13881e4c1a",
   "metadata": {},
   "source": [
    "## Looping through a dictionary list"
   ]
  },
  {
   "cell_type": "code",
   "execution_count": 13,
   "id": "24413c51-95ef-4c81-b7d3-8ffe31573772",
   "metadata": {},
   "outputs": [
    {
     "name": "stdout",
     "output_type": "stream",
     "text": [
      "name: Tim\n",
      "age: 22\n",
      "Nationality: South African\n",
      "Sport: Soccer\n",
      "Course: Sociology\n"
     ]
    }
   ],
   "source": [
    "for key, value in student.items():\n",
    "    print(f\"{key}: {value}\")"
   ]
  },
  {
   "cell_type": "markdown",
   "id": "bafb1896-6ecc-42ce-b831-ee85171447a3",
   "metadata": {},
   "source": [
    "## An all in one snippet of premierl league teams & An f1 driver profile"
   ]
  },
  {
   "cell_type": "code",
   "execution_count": 14,
   "id": "76b85d4d-dd8b-485f-bdf0-1ac930068a55",
   "metadata": {},
   "outputs": [
    {
     "name": "stdout",
     "output_type": "stream",
     "text": [
      "Premier League Bix 6:\n",
      "Chelsea\n",
      "Manu\n",
      "Mancity\n",
      "Arsenal\n",
      "NewCastle\n",
      "Spurs\n",
      "\n",
      "\n",
      "Driver Dictionary:\n",
      "name: Max.v\n",
      "Nationality: Namibian\n",
      "Hobby: Simulator track\n"
     ]
    }
   ],
   "source": [
    "teams = [\"Chelsea\", \"Manu\", \"Mancity\", \"Arsenal\", \"Liverpool\", \"Spurs\"]\n",
    "teams[5] = \"NewCastle\"\n",
    "teams.append(\"Spurs\")\n",
    "teams.remove(\"Liverpool\")\n",
    "print(\"Premier League Bix 6:\")\n",
    "\n",
    "#looping through the list of teams\n",
    "for team in teams:\n",
    "    print(team)\n",
    "\n",
    "print('\\n')\n",
    "\n",
    "driver = {\"name\": \"Max.v\", \"Age\": 26, \"Nationality\": \"Dutch\"}\n",
    "driver[\"Nationality\"] = \"Namibian\"\n",
    "driver[\"Hobby\"] = \"Simulator track\"\n",
    "del driver[\"Age\"]\n",
    "print(\"Driver Dictionary:\")\n",
    "\n",
    "#looping through the dictionary list of the driver profile\n",
    "for key, value in driver.items():\n",
    "    print(f\"{key}: {value}\")"
   ]
  }
 ],
 "metadata": {
  "kernelspec": {
   "display_name": "Python 3 (ipykernel)",
   "language": "python",
   "name": "python3"
  },
  "language_info": {
   "codemirror_mode": {
    "name": "ipython",
    "version": 3
   },
   "file_extension": ".py",
   "mimetype": "text/x-python",
   "name": "python",
   "nbconvert_exporter": "python",
   "pygments_lexer": "ipython3",
   "version": "3.10.2"
  }
 },
 "nbformat": 4,
 "nbformat_minor": 5
}
