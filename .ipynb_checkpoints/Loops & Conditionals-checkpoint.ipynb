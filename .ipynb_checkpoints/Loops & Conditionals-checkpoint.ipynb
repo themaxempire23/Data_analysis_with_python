{
 "cells": [
  {
   "cell_type": "markdown",
   "id": "de3b15f7-5de3-4c14-89a2-a72bb6166903",
   "metadata": {},
   "source": [
    "## Conditional Statements\n",
    "\n",
    "- Are used to make decisions in code based on certain conditions\n",
    "\n",
    "- There are three Basic Conditional Statements:\n",
    "   - if → Runs when a condition is true\n",
    "   - elif → Runs when you have to check another condition if the 1st one is false or null\n",
    "   - else → Runs and checks if all conditions are false or not"
   ]
  },
  {
   "cell_type": "code",
   "execution_count": 4,
   "id": "ee133864-e410-4419-9ac2-a661d43930bd",
   "metadata": {},
   "outputs": [
    {
     "name": "stdout",
     "output_type": "stream",
     "text": [
      "Negative number\n"
     ]
    }
   ],
   "source": [
    "x = 10\n",
    "if x > 10:\n",
    "    print(\"Positive number\")\n",
    "elif x == 0: # == Comparison Operator -> checks if 2 variables are equal\n",
    "    print(\"Zero\")\n",
    "else:\n",
    "    print(\"Negative number\")"
   ]
  },
  {
   "cell_type": "markdown",
   "id": "5a1efc53-2a24-4044-a266-1f51a0ed1981",
   "metadata": {},
   "source": [
    "## Loops \n",
    "\n",
    "- Loops are used to repeat a block of code multiple times\n",
    "- Types of loops:\n",
    "   - For Loop → Iterates over a sequence like a list or range of data\n",
    "   - While Loop → Repeats as long as the condition is true"
   ]
  },
  {
   "cell_type": "code",
   "execution_count": 6,
   "id": "02152ac7-aab1-4f86-9334-d50dd1fd4998",
   "metadata": {},
   "outputs": [
    {
     "name": "stdout",
     "output_type": "stream",
     "text": [
      "0\n",
      "1\n",
      "2\n",
      "3\n",
      "4\n"
     ]
    }
   ],
   "source": [
    "# for loop\n",
    "for i in range(5):\n",
    "    print(i)"
   ]
  },
  {
   "cell_type": "code",
   "execution_count": 10,
   "id": "bde937fc-ebf0-491b-b566-62bfe9c5ca9f",
   "metadata": {},
   "outputs": [
    {
     "name": "stdout",
     "output_type": "stream",
     "text": [
      "0\n",
      "1\n",
      "2\n",
      "3\n",
      "4\n",
      "5\n"
     ]
    }
   ],
   "source": [
    "# while loop\n",
    "count = 0\n",
    "while count <= 5: # <= → \"less than or equal to\" comparison operator\n",
    "    print(count)\n",
    "    count += 1"
   ]
  },
  {
   "cell_type": "code",
   "execution_count": 11,
   "id": "5475c421-3963-4e95-89aa-1b6c9d5c48d4",
   "metadata": {},
   "outputs": [
    {
     "name": "stdout",
     "output_type": "stream",
     "text": [
      "1 is odd\n",
      "2 is Even\n",
      "3 is odd\n",
      "4 is Even\n",
      "5 is odd\n",
      "6 is Even\n",
      "7 is odd\n",
      "8 is Even\n",
      "9 is odd\n",
      "10 is Even\n"
     ]
    }
   ],
   "source": [
    "for number in range(1, 11):\n",
    "    if number % 2 == 0:\n",
    "        print(f\"{number} is Even\")\n",
    "    else:\n",
    "        print(f\"{number} is odd\")"
   ]
  },
  {
   "cell_type": "markdown",
   "id": "f8822d85-1403-40ca-9849-fbb06e8f1982",
   "metadata": {},
   "source": [
    "## How to use both for loop and while loop together\n",
    "\n",
    "- Making a number guessing game\n"
   ]
  },
  {
   "cell_type": "code",
   "execution_count": 12,
   "id": "8a9bdd15-b7d1-4e5e-bf43-c5e74ca3484a",
   "metadata": {},
   "outputs": [
    {
     "name": "stdin",
     "output_type": "stream",
     "text": [
      "Guess a number between 1 and 25:  24\n"
     ]
    },
    {
     "name": "stdout",
     "output_type": "stream",
     "text": [
      "Too High! Try again.\n"
     ]
    },
    {
     "name": "stdin",
     "output_type": "stream",
     "text": [
      "Guess a number between 1 and 25:  7\n"
     ]
    },
    {
     "name": "stdout",
     "output_type": "stream",
     "text": [
      "Too low! Try again.\n"
     ]
    },
    {
     "name": "stdin",
     "output_type": "stream",
     "text": [
      "Guess a number between 1 and 25:  3\n"
     ]
    },
    {
     "name": "stdout",
     "output_type": "stream",
     "text": [
      "Too low! Try again.\n"
     ]
    },
    {
     "name": "stdin",
     "output_type": "stream",
     "text": [
      "Guess a number between 1 and 25:  7\n"
     ]
    },
    {
     "name": "stdout",
     "output_type": "stream",
     "text": [
      "Too low! Try again.\n"
     ]
    },
    {
     "name": "stdin",
     "output_type": "stream",
     "text": [
      "Guess a number between 1 and 25:  0\n"
     ]
    },
    {
     "name": "stdout",
     "output_type": "stream",
     "text": [
      "Too low! Try again.\n"
     ]
    },
    {
     "name": "stdin",
     "output_type": "stream",
     "text": [
      "Guess a number between 1 and 25:  23\n"
     ]
    },
    {
     "name": "stdout",
     "output_type": "stream",
     "text": [
      "Correct! You guessed the right number!\n"
     ]
    }
   ],
   "source": [
    "correct_number = 23\n",
    "\n",
    "while True:\n",
    "    guess = int(input(\"Guess a number between 1 and 25: \"))\n",
    "\n",
    "    if guess < correct_number:\n",
    "        print(\"Too low! Try again.\")\n",
    "    elif guess > correct_number:\n",
    "        print(\"Too High! Try again.\")\n",
    "    else:\n",
    "        print(\"Correct! You guessed the right number!\")\n",
    "        break"
   ]
  }
 ],
 "metadata": {
  "kernelspec": {
   "display_name": "Python 3 (ipykernel)",
   "language": "python",
   "name": "python3"
  },
  "language_info": {
   "codemirror_mode": {
    "name": "ipython",
    "version": 3
   },
   "file_extension": ".py",
   "mimetype": "text/x-python",
   "name": "python",
   "nbconvert_exporter": "python",
   "pygments_lexer": "ipython3",
   "version": "3.10.2"
  }
 },
 "nbformat": 4,
 "nbformat_minor": 5
}
