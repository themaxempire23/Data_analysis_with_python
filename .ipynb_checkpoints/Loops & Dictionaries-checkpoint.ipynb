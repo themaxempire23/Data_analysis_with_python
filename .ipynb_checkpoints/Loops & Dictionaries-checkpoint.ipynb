{
 "cells": [
  {
   "cell_type": "markdown",
   "id": "4e2d8ce2-7d3b-48f2-97f8-0791342b1c7b",
   "metadata": {},
   "source": [
    "List-> An array of data"
   ]
  },
  {
   "cell_type": "code",
   "execution_count": 1,
   "id": "921becb4-96bf-4e8a-9022-5de9992a5800",
   "metadata": {},
   "outputs": [
    {
     "name": "stdout",
     "output_type": "stream",
     "text": [
      "Audi\n",
      "Mahindra\n"
     ]
    }
   ],
   "source": [
    "cars = [\"BMW\", \"Audi\", \"Toyota\", \"Mahindra\"]\n",
    "\n",
    "print(cars[1])\n",
    "print(cars[3])"
   ]
  },
  {
   "cell_type": "code",
   "execution_count": 2,
   "id": "c8e4a189-7d4c-453e-8c42-7d10db3b8c46",
   "metadata": {},
   "outputs": [],
   "source": [
    "#changing out an item\n",
    "cars[2] = \"Lambo\""
   ]
  },
  {
   "cell_type": "code",
   "execution_count": 3,
   "id": "56142eca-2b7d-432e-bde3-6b1e99953fe7",
   "metadata": {},
   "outputs": [
    {
     "name": "stdout",
     "output_type": "stream",
     "text": [
      "['BMW', 'Audi', 'Lambo', 'Mahindra']\n"
     ]
    }
   ],
   "source": [
    "print(cars)"
   ]
  },
  {
   "cell_type": "code",
   "execution_count": 5,
   "id": "29816fb2-7746-4da6-aca7-a1af0867b416",
   "metadata": {},
   "outputs": [
    {
     "name": "stdout",
     "output_type": "stream",
     "text": [
      "['BMW', 'Audi', 'Lambo', 'Mazda']\n"
     ]
    }
   ],
   "source": [
    "cars[3] = \"Mazda\"\n",
    "\n",
    "print(cars)"
   ]
  }
 ],
 "metadata": {
  "kernelspec": {
   "display_name": "Python 3 (ipykernel)",
   "language": "python",
   "name": "python3"
  },
  "language_info": {
   "codemirror_mode": {
    "name": "ipython",
    "version": 3
   },
   "file_extension": ".py",
   "mimetype": "text/x-python",
   "name": "python",
   "nbconvert_exporter": "python",
   "pygments_lexer": "ipython3",
   "version": "3.10.2"
  }
 },
 "nbformat": 4,
 "nbformat_minor": 5
}
