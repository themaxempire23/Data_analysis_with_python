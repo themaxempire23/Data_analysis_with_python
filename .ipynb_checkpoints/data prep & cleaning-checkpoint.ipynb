{
 "cells": [
  {
   "cell_type": "markdown",
   "id": "2c75e84e-f273-41c3-82d3-23a8c0c3a901",
   "metadata": {},
   "source": [
    "## Import libraries"
   ]
  },
  {
   "cell_type": "code",
   "execution_count": 1,
   "id": "41388049-58df-420e-a98e-5b3d7bd4184e",
   "metadata": {},
   "outputs": [],
   "source": [
    "import pandas as pd\n",
    "import numpy as np"
   ]
  },
  {
   "cell_type": "markdown",
   "id": "0fefaac0-7ed0-4a9f-8a37-8fed128c2833",
   "metadata": {},
   "source": [
    "## Sample dataset"
   ]
  },
  {
   "cell_type": "code",
   "execution_count": 2,
   "id": "4a2ad99e-6e53-4758-afde-1cdd1ca12d60",
   "metadata": {},
   "outputs": [
    {
     "data": {
      "text/html": [
       "<div>\n",
       "<style scoped>\n",
       "    .dataframe tbody tr th:only-of-type {\n",
       "        vertical-align: middle;\n",
       "    }\n",
       "\n",
       "    .dataframe tbody tr th {\n",
       "        vertical-align: top;\n",
       "    }\n",
       "\n",
       "    .dataframe thead th {\n",
       "        text-align: right;\n",
       "    }\n",
       "</style>\n",
       "<table border=\"1\" class=\"dataframe\">\n",
       "  <thead>\n",
       "    <tr style=\"text-align: right;\">\n",
       "      <th></th>\n",
       "      <th>name</th>\n",
       "      <th>age</th>\n",
       "      <th>gender</th>\n",
       "      <th>country</th>\n",
       "      <th>quantity</th>\n",
       "      <th>unit_price</th>\n",
       "    </tr>\n",
       "  </thead>\n",
       "  <tbody>\n",
       "    <tr>\n",
       "      <th>0</th>\n",
       "      <td>John</td>\n",
       "      <td>25</td>\n",
       "      <td>Male</td>\n",
       "      <td>USA</td>\n",
       "      <td>2</td>\n",
       "      <td>20.0</td>\n",
       "    </tr>\n",
       "    <tr>\n",
       "      <th>1</th>\n",
       "      <td>Mary</td>\n",
       "      <td>np.nan</td>\n",
       "      <td>Female</td>\n",
       "      <td>usa</td>\n",
       "      <td>1</td>\n",
       "      <td>15.0</td>\n",
       "    </tr>\n",
       "    <tr>\n",
       "      <th>2</th>\n",
       "      <td>Mark</td>\n",
       "      <td>30</td>\n",
       "      <td>Male</td>\n",
       "      <td>Canada</td>\n",
       "      <td>3</td>\n",
       "      <td>NaN</td>\n",
       "    </tr>\n",
       "    <tr>\n",
       "      <th>3</th>\n",
       "      <td>Andria</td>\n",
       "      <td>29</td>\n",
       "      <td>np.nan</td>\n",
       "      <td>CANADA</td>\n",
       "      <td>5</td>\n",
       "      <td>10.0</td>\n",
       "    </tr>\n",
       "    <tr>\n",
       "      <th>4</th>\n",
       "      <td>Robert</td>\n",
       "      <td>NaN</td>\n",
       "      <td>Male</td>\n",
       "      <td>UK</td>\n",
       "      <td>2</td>\n",
       "      <td>30.0</td>\n",
       "    </tr>\n",
       "    <tr>\n",
       "      <th>5</th>\n",
       "      <td>Eva</td>\n",
       "      <td>25</td>\n",
       "      <td>Female</td>\n",
       "      <td>USA</td>\n",
       "      <td>2</td>\n",
       "      <td>20.0</td>\n",
       "    </tr>\n",
       "  </tbody>\n",
       "</table>\n",
       "</div>"
      ],
      "text/plain": [
       "     name     age  gender country  quantity  unit_price\n",
       "0    John      25    Male     USA         2        20.0\n",
       "1    Mary  np.nan  Female     usa         1        15.0\n",
       "2    Mark      30    Male  Canada         3         NaN\n",
       "3  Andria      29  np.nan  CANADA         5        10.0\n",
       "4  Robert     NaN    Male      UK         2        30.0\n",
       "5     Eva      25  Female     USA         2        20.0"
      ]
     },
     "execution_count": 2,
     "metadata": {},
     "output_type": "execute_result"
    }
   ],
   "source": [
    "data = {\n",
    "    'name': ['John', 'Mary', 'Mark', 'Andria', 'Robert','Eva'],\n",
    "    'age': ['25', 'np.nan', '30', '29', 'NaN', '25'],\n",
    "    'gender':['Male','Female', 'Male', 'np.nan', 'Male', 'Female'],\n",
    "    'country': ['USA', 'usa', 'Canada', 'CANADA', 'UK', 'USA'],\n",
    "    'quantity': [2, 1, 3, 5, 2, 2],\n",
    "    'unit_price': [20, 15, np.nan, 10, 30, 20]\n",
    "}\n",
    "\n",
    "df = pd.DataFrame(data)\n",
    "df"
   ]
  },
  {
   "cell_type": "code",
   "execution_count": 3,
   "id": "55ad8bd1-2967-4932-8cb9-0985512c3658",
   "metadata": {},
   "outputs": [
    {
     "data": {
      "text/html": [
       "<div>\n",
       "<style scoped>\n",
       "    .dataframe tbody tr th:only-of-type {\n",
       "        vertical-align: middle;\n",
       "    }\n",
       "\n",
       "    .dataframe tbody tr th {\n",
       "        vertical-align: top;\n",
       "    }\n",
       "\n",
       "    .dataframe thead th {\n",
       "        text-align: right;\n",
       "    }\n",
       "</style>\n",
       "<table border=\"1\" class=\"dataframe\">\n",
       "  <thead>\n",
       "    <tr style=\"text-align: right;\">\n",
       "      <th></th>\n",
       "      <th>name</th>\n",
       "      <th>age</th>\n",
       "      <th>gender</th>\n",
       "      <th>country</th>\n",
       "      <th>quantity</th>\n",
       "      <th>unit_price</th>\n",
       "    </tr>\n",
       "  </thead>\n",
       "  <tbody>\n",
       "    <tr>\n",
       "      <th>0</th>\n",
       "      <td>John</td>\n",
       "      <td>25</td>\n",
       "      <td>Male</td>\n",
       "      <td>USA</td>\n",
       "      <td>2</td>\n",
       "      <td>20.0</td>\n",
       "    </tr>\n",
       "    <tr>\n",
       "      <th>1</th>\n",
       "      <td>Mary</td>\n",
       "      <td>np.nan</td>\n",
       "      <td>Female</td>\n",
       "      <td>usa</td>\n",
       "      <td>1</td>\n",
       "      <td>15.0</td>\n",
       "    </tr>\n",
       "    <tr>\n",
       "      <th>2</th>\n",
       "      <td>Mark</td>\n",
       "      <td>30</td>\n",
       "      <td>Male</td>\n",
       "      <td>Canada</td>\n",
       "      <td>3</td>\n",
       "      <td>0.0</td>\n",
       "    </tr>\n",
       "    <tr>\n",
       "      <th>3</th>\n",
       "      <td>Andria</td>\n",
       "      <td>29</td>\n",
       "      <td>np.nan</td>\n",
       "      <td>CANADA</td>\n",
       "      <td>5</td>\n",
       "      <td>10.0</td>\n",
       "    </tr>\n",
       "    <tr>\n",
       "      <th>4</th>\n",
       "      <td>Robert</td>\n",
       "      <td>NaN</td>\n",
       "      <td>Male</td>\n",
       "      <td>UK</td>\n",
       "      <td>2</td>\n",
       "      <td>30.0</td>\n",
       "    </tr>\n",
       "    <tr>\n",
       "      <th>5</th>\n",
       "      <td>Eva</td>\n",
       "      <td>25</td>\n",
       "      <td>Female</td>\n",
       "      <td>USA</td>\n",
       "      <td>2</td>\n",
       "      <td>20.0</td>\n",
       "    </tr>\n",
       "  </tbody>\n",
       "</table>\n",
       "</div>"
      ],
      "text/plain": [
       "     name     age  gender country  quantity  unit_price\n",
       "0    John      25    Male     USA         2        20.0\n",
       "1    Mary  np.nan  Female     usa         1        15.0\n",
       "2    Mark      30    Male  Canada         3         0.0\n",
       "3  Andria      29  np.nan  CANADA         5        10.0\n",
       "4  Robert     NaN    Male      UK         2        30.0\n",
       "5     Eva      25  Female     USA         2        20.0"
      ]
     },
     "execution_count": 3,
     "metadata": {},
     "output_type": "execute_result"
    }
   ],
   "source": [
    "# Handling missing values\n",
    "df.fillna(0)"
   ]
  },
  {
   "cell_type": "code",
   "execution_count": 4,
   "id": "2e0e31b8-c640-47da-8fb0-d8d037a5fbef",
   "metadata": {},
   "outputs": [
    {
     "data": {
      "text/html": [
       "<div>\n",
       "<style scoped>\n",
       "    .dataframe tbody tr th:only-of-type {\n",
       "        vertical-align: middle;\n",
       "    }\n",
       "\n",
       "    .dataframe tbody tr th {\n",
       "        vertical-align: top;\n",
       "    }\n",
       "\n",
       "    .dataframe thead th {\n",
       "        text-align: right;\n",
       "    }\n",
       "</style>\n",
       "<table border=\"1\" class=\"dataframe\">\n",
       "  <thead>\n",
       "    <tr style=\"text-align: right;\">\n",
       "      <th></th>\n",
       "      <th>name</th>\n",
       "      <th>age</th>\n",
       "      <th>gender</th>\n",
       "      <th>country</th>\n",
       "      <th>quantity</th>\n",
       "      <th>unit_price</th>\n",
       "    </tr>\n",
       "  </thead>\n",
       "  <tbody>\n",
       "    <tr>\n",
       "      <th>0</th>\n",
       "      <td>John</td>\n",
       "      <td>25</td>\n",
       "      <td>Male</td>\n",
       "      <td>USA</td>\n",
       "      <td>2</td>\n",
       "      <td>20.0</td>\n",
       "    </tr>\n",
       "    <tr>\n",
       "      <th>1</th>\n",
       "      <td>Mary</td>\n",
       "      <td>np.nan</td>\n",
       "      <td>Female</td>\n",
       "      <td>usa</td>\n",
       "      <td>1</td>\n",
       "      <td>15.0</td>\n",
       "    </tr>\n",
       "    <tr>\n",
       "      <th>3</th>\n",
       "      <td>Andria</td>\n",
       "      <td>29</td>\n",
       "      <td>np.nan</td>\n",
       "      <td>CANADA</td>\n",
       "      <td>5</td>\n",
       "      <td>10.0</td>\n",
       "    </tr>\n",
       "    <tr>\n",
       "      <th>4</th>\n",
       "      <td>Robert</td>\n",
       "      <td>NaN</td>\n",
       "      <td>Male</td>\n",
       "      <td>UK</td>\n",
       "      <td>2</td>\n",
       "      <td>30.0</td>\n",
       "    </tr>\n",
       "    <tr>\n",
       "      <th>5</th>\n",
       "      <td>Eva</td>\n",
       "      <td>25</td>\n",
       "      <td>Female</td>\n",
       "      <td>USA</td>\n",
       "      <td>2</td>\n",
       "      <td>20.0</td>\n",
       "    </tr>\n",
       "  </tbody>\n",
       "</table>\n",
       "</div>"
      ],
      "text/plain": [
       "     name     age  gender country  quantity  unit_price\n",
       "0    John      25    Male     USA         2        20.0\n",
       "1    Mary  np.nan  Female     usa         1        15.0\n",
       "3  Andria      29  np.nan  CANADA         5        10.0\n",
       "4  Robert     NaN    Male      UK         2        30.0\n",
       "5     Eva      25  Female     USA         2        20.0"
      ]
     },
     "execution_count": 4,
     "metadata": {},
     "output_type": "execute_result"
    }
   ],
   "source": [
    "#removing rows with missing values\n",
    "df.dropna()"
   ]
  },
  {
   "cell_type": "code",
   "execution_count": 5,
   "id": "5ad0e058-91bd-428b-949a-3d5c3a64e3d3",
   "metadata": {},
   "outputs": [
    {
     "data": {
      "text/html": [
       "<div>\n",
       "<style scoped>\n",
       "    .dataframe tbody tr th:only-of-type {\n",
       "        vertical-align: middle;\n",
       "    }\n",
       "\n",
       "    .dataframe tbody tr th {\n",
       "        vertical-align: top;\n",
       "    }\n",
       "\n",
       "    .dataframe thead th {\n",
       "        text-align: right;\n",
       "    }\n",
       "</style>\n",
       "<table border=\"1\" class=\"dataframe\">\n",
       "  <thead>\n",
       "    <tr style=\"text-align: right;\">\n",
       "      <th></th>\n",
       "      <th>name</th>\n",
       "      <th>age</th>\n",
       "      <th>gender</th>\n",
       "      <th>country</th>\n",
       "      <th>quantity</th>\n",
       "      <th>unit_price</th>\n",
       "    </tr>\n",
       "  </thead>\n",
       "  <tbody>\n",
       "    <tr>\n",
       "      <th>0</th>\n",
       "      <td>John</td>\n",
       "      <td>25</td>\n",
       "      <td>Male</td>\n",
       "      <td>USA</td>\n",
       "      <td>2</td>\n",
       "      <td>20.0</td>\n",
       "    </tr>\n",
       "    <tr>\n",
       "      <th>1</th>\n",
       "      <td>Mary</td>\n",
       "      <td>np.nan</td>\n",
       "      <td>Female</td>\n",
       "      <td>usa</td>\n",
       "      <td>1</td>\n",
       "      <td>15.0</td>\n",
       "    </tr>\n",
       "    <tr>\n",
       "      <th>2</th>\n",
       "      <td>Mark</td>\n",
       "      <td>30</td>\n",
       "      <td>Male</td>\n",
       "      <td>Canada</td>\n",
       "      <td>3</td>\n",
       "      <td>NaN</td>\n",
       "    </tr>\n",
       "    <tr>\n",
       "      <th>3</th>\n",
       "      <td>Andria</td>\n",
       "      <td>29</td>\n",
       "      <td>np.nan</td>\n",
       "      <td>CANADA</td>\n",
       "      <td>5</td>\n",
       "      <td>10.0</td>\n",
       "    </tr>\n",
       "    <tr>\n",
       "      <th>4</th>\n",
       "      <td>Robert</td>\n",
       "      <td>NaN</td>\n",
       "      <td>Male</td>\n",
       "      <td>UK</td>\n",
       "      <td>2</td>\n",
       "      <td>30.0</td>\n",
       "    </tr>\n",
       "    <tr>\n",
       "      <th>5</th>\n",
       "      <td>Eva</td>\n",
       "      <td>25</td>\n",
       "      <td>Female</td>\n",
       "      <td>USA</td>\n",
       "      <td>2</td>\n",
       "      <td>20.0</td>\n",
       "    </tr>\n",
       "  </tbody>\n",
       "</table>\n",
       "</div>"
      ],
      "text/plain": [
       "     name     age  gender country  quantity  unit_price\n",
       "0    John      25    Male     USA         2        20.0\n",
       "1    Mary  np.nan  Female     usa         1        15.0\n",
       "2    Mark      30    Male  Canada         3         NaN\n",
       "3  Andria      29  np.nan  CANADA         5        10.0\n",
       "4  Robert     NaN    Male      UK         2        30.0\n",
       "5     Eva      25  Female     USA         2        20.0"
      ]
     },
     "execution_count": 5,
     "metadata": {},
     "output_type": "execute_result"
    }
   ],
   "source": [
    "#Removing duplicates\n",
    "df.drop_duplicates()"
   ]
  },
  {
   "cell_type": "code",
   "execution_count": 6,
   "id": "1e83257e-b736-4f3e-9fd1-f6f2db7e7039",
   "metadata": {},
   "outputs": [
    {
     "name": "stdout",
     "output_type": "stream",
     "text": [
      "     name     age  gender country  quantity  unit_price\n",
      "0    John      25    Male     usa         2        20.0\n",
      "1    Mary  np.nan  Female     usa         1        15.0\n",
      "2    Mark      30    Male  canada         3         NaN\n",
      "3  Andria      29  np.nan  canada         5        10.0\n",
      "4  Robert     NaN    Male      uk         2        30.0\n",
      "5     Eva      25  Female     usa         2        20.0\n"
     ]
    }
   ],
   "source": [
    "#Correcting datatypes\n",
    "#df['age'] = df['age'].astype(int)\n",
    "\n",
    "#Removing incosnsistant datatypes\n",
    "df['country'] = df['country'].str.lower()\n",
    "\n",
    "print(df)"
   ]
  },
  {
   "cell_type": "code",
   "execution_count": 17,
   "id": "69d6dd79-0233-4f8c-a46c-106dd956f2b4",
   "metadata": {},
   "outputs": [],
   "source": [
    "# Correcting datatypes\n",
    "df['age'] = pd.to_numeric(df['age'], errors='coerce')\n",
    "\n",
    "df['age'] = df['age'].fillna(df['age'].median())\n",
    "df['age'] = df['age'].astype(int)"
   ]
  },
  {
   "cell_type": "markdown",
   "id": "d5b73651-daf7-4d90-a762-b755ce81d704",
   "metadata": {},
   "source": [
    "## Data preparation\n",
    "- Making data ready for analysing, e.g visualising, stats etc\n",
    "- Aslso includes feature engineering making new coloumns from existing ones"
   ]
  },
  {
   "cell_type": "code",
   "execution_count": 7,
   "id": "c35e9f6a-8689-4e85-a389-583ef5e47b4b",
   "metadata": {},
   "outputs": [
    {
     "name": "stdout",
     "output_type": "stream",
     "text": [
      "     name     age  gender country  quantity  unit_price  total_price\n",
      "0    John      25    Male     usa         2        20.0         40.0\n",
      "1    Mary  np.nan  Female     usa         1        15.0         15.0\n",
      "2    Mark      30    Male  canada         3         NaN          NaN\n",
      "3  Andria      29  np.nan  canada         5        10.0         50.0\n",
      "4  Robert     NaN    Male      uk         2        30.0         60.0\n",
      "5     Eva      25  Female     usa         2        20.0         40.0\n"
     ]
    }
   ],
   "source": [
    "#Feature engineering\n",
    "df['total_price'] = df['quantity'] * df['unit_price'] # total_price coloumn just created now\n",
    "print(df)"
   ]
  },
  {
   "cell_type": "markdown",
   "id": "d7196843-28bf-4408-ba79-699ce4203b69",
   "metadata": {},
   "source": [
    "## Encoding catergorical values\n",
    "- Converting text labels into specific numbers"
   ]
  },
  {
   "cell_type": "code",
   "execution_count": 8,
   "id": "7aeb25dd-4ea0-4c2a-92af-db8b59dbd198",
   "metadata": {},
   "outputs": [
    {
     "data": {
      "text/html": [
       "<div>\n",
       "<style scoped>\n",
       "    .dataframe tbody tr th:only-of-type {\n",
       "        vertical-align: middle;\n",
       "    }\n",
       "\n",
       "    .dataframe tbody tr th {\n",
       "        vertical-align: top;\n",
       "    }\n",
       "\n",
       "    .dataframe thead th {\n",
       "        text-align: right;\n",
       "    }\n",
       "</style>\n",
       "<table border=\"1\" class=\"dataframe\">\n",
       "  <thead>\n",
       "    <tr style=\"text-align: right;\">\n",
       "      <th></th>\n",
       "      <th>Female</th>\n",
       "      <th>Male</th>\n",
       "      <th>np.nan</th>\n",
       "    </tr>\n",
       "  </thead>\n",
       "  <tbody>\n",
       "    <tr>\n",
       "      <th>0</th>\n",
       "      <td>False</td>\n",
       "      <td>True</td>\n",
       "      <td>False</td>\n",
       "    </tr>\n",
       "    <tr>\n",
       "      <th>1</th>\n",
       "      <td>True</td>\n",
       "      <td>False</td>\n",
       "      <td>False</td>\n",
       "    </tr>\n",
       "    <tr>\n",
       "      <th>2</th>\n",
       "      <td>False</td>\n",
       "      <td>True</td>\n",
       "      <td>False</td>\n",
       "    </tr>\n",
       "    <tr>\n",
       "      <th>3</th>\n",
       "      <td>False</td>\n",
       "      <td>False</td>\n",
       "      <td>True</td>\n",
       "    </tr>\n",
       "    <tr>\n",
       "      <th>4</th>\n",
       "      <td>False</td>\n",
       "      <td>True</td>\n",
       "      <td>False</td>\n",
       "    </tr>\n",
       "    <tr>\n",
       "      <th>5</th>\n",
       "      <td>True</td>\n",
       "      <td>False</td>\n",
       "      <td>False</td>\n",
       "    </tr>\n",
       "  </tbody>\n",
       "</table>\n",
       "</div>"
      ],
      "text/plain": [
       "   Female   Male  np.nan\n",
       "0   False   True   False\n",
       "1    True  False   False\n",
       "2   False   True   False\n",
       "3   False  False    True\n",
       "4   False   True   False\n",
       "5    True  False   False"
      ]
     },
     "execution_count": 8,
     "metadata": {},
     "output_type": "execute_result"
    }
   ],
   "source": [
    "# Encoding categorical values \n",
    "pd.get_dummies(df['gender']) #one hot encoding is applied here"
   ]
  },
  {
   "cell_type": "markdown",
   "id": "89750154-6bcb-4573-84e7-c72ecd4cc793",
   "metadata": {},
   "source": [
    "## Scaling and normalization\n",
    "- for machine learning models"
   ]
  },
  {
   "cell_type": "code",
   "execution_count": 14,
   "id": "8f6fa15f-a14b-4a2f-8b51-07cab9863f5b",
   "metadata": {},
   "outputs": [],
   "source": [
    "from sklearn.preprocessing import MinMaxScaler"
   ]
  },
  {
   "cell_type": "code",
   "execution_count": 18,
   "id": "3e8c2ba9-38f9-4cd6-8035-6e2e04caf3ed",
   "metadata": {},
   "outputs": [],
   "source": [
    "from sklearn.preprocessing import MinMaxScaler\n",
    "\n",
    "scaler = MinMaxScaler()\n",
    "df[['total_price']] = scaler.fit_transform(df[['total_price']])\n"
   ]
  },
  {
   "cell_type": "markdown",
   "id": "cbf01f18-c135-45da-8a1b-7a75ee8022be",
   "metadata": {},
   "source": [
    "## Spliting data for training and testing"
   ]
  },
  {
   "cell_type": "code",
   "execution_count": 21,
   "id": "0497a7e9-d434-4632-abcb-0dfa6ffb114d",
   "metadata": {},
   "outputs": [],
   "source": [
    "from sklearn.model_selection import train_test_split\n",
    "train, test = train_test_split(df, test_size=0.2)"
   ]
  },
  {
   "cell_type": "markdown",
   "id": "c7293fff-c52f-45af-9306-634c6c7a4371",
   "metadata": {},
   "source": [
    "## Data visualization"
   ]
  },
  {
   "cell_type": "code",
   "execution_count": 22,
   "id": "887ec8db-8555-4aef-b3f1-659521c71eec",
   "metadata": {},
   "outputs": [
    {
     "name": "stdout",
     "output_type": "stream",
     "text": [
      "     name   Age     City\n",
      "0    John    25       NY\n",
      "1    Mary  None       LA\n",
      "2    Mark    30     None\n",
      "3  Andria  None  Chicago\n"
     ]
    }
   ],
   "source": [
    "# Using a new data set\n",
    "import pandas as pd\n",
    "\n",
    "data = {\n",
    "    'name': ['John', 'Mary', 'Mark', 'Andria'],\n",
    "    'Age': ['25', None, '30', None],\n",
    "    'City':['NY','LA', None, 'Chicago']\n",
    "}\n",
    "df = pd.DataFrame(data)\n",
    "print(df)"
   ]
  },
  {
   "cell_type": "code",
   "execution_count": 25,
   "id": "1b9ce4e0-f7e1-41ea-8371-26ffdd3af274",
   "metadata": {},
   "outputs": [
    {
     "name": "stdout",
     "output_type": "stream",
     "text": [
      "     name   Age     City\n",
      "0    John  25.0       NY\n",
      "1    Mary  27.5       LA\n",
      "2    Mark  30.0  Unknown\n",
      "3  Andria  27.5  Chicago\n"
     ]
    }
   ],
   "source": [
    "df['Age'] = pd.to_numeric(df['Age'], errors='coerce')\n",
    "\n",
    "# Filling in missing values\n",
    "df['Age'] = df['Age'].fillna(df['Age'].mean())\n",
    "df['City'] = df['City'].fillna('Unknown')\n",
    "print(df)"
   ]
  },
  {
   "cell_type": "code",
   "execution_count": 27,
   "id": "0ef5652f-6de5-43d8-9098-3e7c759b3308",
   "metadata": {},
   "outputs": [
    {
     "name": "stdout",
     "output_type": "stream",
     "text": [
      "   ID  Name\n",
      "0   1  John\n",
      "1   2  Mary\n",
      "2   2  Mark\n",
      "3   3  John\n"
     ]
    }
   ],
   "source": [
    "df = pd.DataFrame({\n",
    "    'ID': [1, 2, 2, 3],\n",
    "    'Name': ['John', 'Mary', 'Mark', 'John'],\n",
    "})\n",
    "\n",
    "df = df.drop_duplicates()\n",
    "print(df)"
   ]
  },
  {
   "cell_type": "code",
   "execution_count": 30,
   "id": "735fff48-2a65-4d39-9f61-e72ddba2f36c",
   "metadata": {},
   "outputs": [
    {
     "name": "stdout",
     "output_type": "stream",
     "text": [
      "   Female  Male\n",
      "0       0     1\n",
      "1       1     0\n",
      "2       1     0\n",
      "3       0     1\n"
     ]
    }
   ],
   "source": [
    "#Feature engineering (encoding)\n",
    "df = pd.DataFrame({'Gender': ['Male', 'Female', 'Female', 'Male']})\n",
    "encoded = pd.get_dummies(df['Gender'])\n",
    "encoded = encoded.astype(int)\n",
    "print(encoded)"
   ]
  }
 ],
 "metadata": {
  "kernelspec": {
   "display_name": "Python 3 (ipykernel)",
   "language": "python",
   "name": "python3"
  },
  "language_info": {
   "codemirror_mode": {
    "name": "ipython",
    "version": 3
   },
   "file_extension": ".py",
   "mimetype": "text/x-python",
   "name": "python",
   "nbconvert_exporter": "python",
   "pygments_lexer": "ipython3",
   "version": "3.10.2"
  }
 },
 "nbformat": 4,
 "nbformat_minor": 5
}
