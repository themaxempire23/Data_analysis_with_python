{
 "cells": [
  {
   "cell_type": "code",
   "execution_count": 2,
   "id": "05fa5344-cb5e-4d0d-9927-e7bc025ae3dd",
   "metadata": {},
   "outputs": [],
   "source": [
    "# Defining the varibales\n",
    "x = 99\n",
    "y = 23\n",
    "z = 8"
   ]
  },
  {
   "cell_type": "code",
   "execution_count": 3,
   "id": "614a20a6-af7d-4b97-a418-f45e078c2aea",
   "metadata": {},
   "outputs": [
    {
     "name": "stdout",
     "output_type": "stream",
     "text": [
      "Addition 107\n",
      "Subtraction 15\n",
      "Multiplication 184\n",
      "Division 12.375\n"
     ]
    }
   ],
   "source": [
    "print(\"Addition\", z + x)\n",
    "print(\"Subtraction\", y - z)\n",
    "print(\"Multiplication\", y * z)\n",
    "print(\"Division\", 99 / z)"
   ]
  },
  {
   "cell_type": "markdown",
   "id": "649a54b3-0b23-4557-8bb1-2cefa60b33e1",
   "metadata": {},
   "source": [
    "## Using variables into calculation"
   ]
  },
  {
   "cell_type": "code",
   "execution_count": 4,
   "id": "64ab2c92-6e30-4019-9b9b-920e65b16e94",
   "metadata": {},
   "outputs": [
    {
     "name": "stdout",
     "output_type": "stream",
     "text": [
      "Area of rectangle:  32\n"
     ]
    }
   ],
   "source": [
    "length = 8\n",
    "width = 4\n",
    "area = length * width\n",
    "print(\"Area of rectangle: \",  area)"
   ]
  },
  {
   "cell_type": "code",
   "execution_count": 6,
   "id": "7e20c658-155b-4bcb-a46c-1ce7e6ba8949",
   "metadata": {},
   "outputs": [
    {
     "name": "stdout",
     "output_type": "stream",
     "text": [
      "[2.23, 99, 105, 114, 56]\n"
     ]
    }
   ],
   "source": [
    "number = [2.23, 99, 105, 114, 56]\n",
    "print(number)"
   ]
  },
  {
   "cell_type": "code",
   "execution_count": 7,
   "id": "9699112b-ef31-4f6d-82a0-fd0d7bba8e29",
   "metadata": {},
   "outputs": [
    {
     "name": "stdout",
     "output_type": "stream",
     "text": [
      "Mercedezbenz\n"
     ]
    }
   ],
   "source": [
    "car = ['Audi', 'Mercedezbenz', \"Toyota\"]\n",
    "print(car[1])"
   ]
  },
  {
   "cell_type": "markdown",
   "id": "3f08d73b-1dd9-4227-b9c1-68f1cd41082a",
   "metadata": {},
   "source": [
    "## Iterating through a list"
   ]
  },
  {
   "cell_type": "code",
   "execution_count": 9,
   "id": "f74852f3-ca37-42ab-a863-221b2c35e706",
   "metadata": {},
   "outputs": [
    {
     "name": "stdout",
     "output_type": "stream",
     "text": [
      "2.23\n",
      "99\n",
      "105\n",
      "114\n",
      "56\n"
     ]
    }
   ],
   "source": [
    "for num in number:\n",
    "    print(num)"
   ]
  },
  {
   "cell_type": "code",
   "execution_count": 10,
   "id": "2a61bc60-08d2-407b-8ae1-6732e93166a1",
   "metadata": {},
   "outputs": [
    {
     "name": "stdout",
     "output_type": "stream",
     "text": [
      "3.23\n",
      "100\n",
      "106\n",
      "115\n",
      "57\n"
     ]
    }
   ],
   "source": [
    "for num in number:\n",
    "    print(num + 1)"
   ]
  },
  {
   "cell_type": "code",
   "execution_count": 11,
   "id": "062d12c5-ef23-4279-974b-02449a3b5253",
   "metadata": {},
   "outputs": [
    {
     "name": "stdout",
     "output_type": "stream",
     "text": [
      "1.23\n",
      "98\n",
      "104\n",
      "113\n",
      "55\n"
     ]
    }
   ],
   "source": [
    "for num in number:\n",
    "    print(num - 1)"
   ]
  },
  {
   "cell_type": "code",
   "execution_count": 12,
   "id": "8cc2cc56-6beb-4d31-9a8f-3517617d4694",
   "metadata": {},
   "outputs": [
    {
     "name": "stdout",
     "output_type": "stream",
     "text": [
      "2.23\n",
      "99\n",
      "105\n",
      "114\n",
      "56\n"
     ]
    }
   ],
   "source": [
    "for num in number:\n",
    "    print(num * 1)"
   ]
  },
  {
   "cell_type": "code",
   "execution_count": 13,
   "id": "4b7279b3-e993-40f8-9427-3a2b5f1e1468",
   "metadata": {},
   "outputs": [
    {
     "name": "stdout",
     "output_type": "stream",
     "text": [
      "2.23\n",
      "99.0\n",
      "105.0\n",
      "114.0\n",
      "56.0\n"
     ]
    }
   ],
   "source": [
    "for num in number:\n",
    "    print(num / 1)"
   ]
  },
  {
   "cell_type": "markdown",
   "id": "462146b3-0d71-42fe-8ad5-e0de27e960c7",
   "metadata": {},
   "source": [
    "## How to store iteration results in a specific new list"
   ]
  },
  {
   "cell_type": "code",
   "execution_count": 15,
   "id": "b7d563c0-d5ff-4a32-bee2-807d7a135c07",
   "metadata": {},
   "outputs": [
    {
     "name": "stdout",
     "output_type": "stream",
     "text": [
      "Doubled list: [4.46, 198, 210, 228, 112]\n"
     ]
    }
   ],
   "source": [
    "doubled = []\n",
    "for num in number:\n",
    "    doubled.append(num * 2)\n",
    "\n",
    "print(\"Doubled list:\", doubled)"
   ]
  },
  {
   "cell_type": "code",
   "execution_count": 18,
   "id": "f7a5e3af-bc70-472a-a70b-08c8048e0276",
   "metadata": {},
   "outputs": [
    {
     "name": "stdout",
     "output_type": "stream",
     "text": [
      "[4.46, 198, 210, 228, 112]\n"
     ]
    }
   ],
   "source": [
    "# Simple one liner AKA One line iteration\n",
    "doubled = [num * 2 for num in number]\n",
    "print(doubled)"
   ]
  }
 ],
 "metadata": {
  "kernelspec": {
   "display_name": "Python 3 (ipykernel)",
   "language": "python",
   "name": "python3"
  },
  "language_info": {
   "codemirror_mode": {
    "name": "ipython",
    "version": 3
   },
   "file_extension": ".py",
   "mimetype": "text/x-python",
   "name": "python",
   "nbconvert_exporter": "python",
   "pygments_lexer": "ipython3",
   "version": "3.10.2"
  }
 },
 "nbformat": 4,
 "nbformat_minor": 5
}
